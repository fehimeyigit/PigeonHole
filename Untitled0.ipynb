{
  "nbformat": 4,
  "nbformat_minor": 0,
  "metadata": {
    "colab": {
      "name": "Untitled0.ipynb",
      "version": "0.3.2",
      "provenance": [],
      "include_colab_link": true
    },
    "kernelspec": {
      "name": "python3",
      "display_name": "Python 3"
    }
  },
  "cells": [
    {
      "cell_type": "markdown",
      "metadata": {
        "id": "view-in-github",
        "colab_type": "text"
      },
      "source": [
        "<a href=\"https://colab.research.google.com/github/fehimeyigit/PigeonHole/blob/master/Untitled0.ipynb\" target=\"_parent\"><img src=\"https://colab.research.google.com/assets/colab-badge.svg\" alt=\"Open In Colab\"/></a>"
      ]
    },
    {
      "metadata": {
        "id": "f2EN-2S5HUvj",
        "colab_type": "text"
      },
      "cell_type": "markdown",
      "source": [
        "S={1,2,3,4,5,6,7,8,9} kümesinin 6 elamanlı her hangi bir altkümesinde toplamı 10 olan iki sayı vardır ."
      ]
    },
    {
      "metadata": {
        "id": "82yeXSahHedB",
        "colab_type": "code",
        "colab": {
          "base_uri": "https://localhost:8080/",
          "height": 170
        },
        "outputId": "0c1a9422-ba69-4fbe-d64e-ef0f4beccde1"
      },
      "cell_type": "code",
      "source": [
        "import math \n",
        "liste =  [1,2,3,4,5,6,7,8,9]\n",
        "ikililer=[]\n",
        "#SORU: “S={1,2,3,4,5,6,7,8,9} kümesinin 6 elamanlı her hangi bir altkümesinde toplamı 10 olan iki sayı vardır” ifadesini gösteriniz.\n",
        "c=0\n",
        "result=0\n",
        "for j in liste:\n",
        "    \n",
        "    for i in liste:\n",
        "       result = j+(i)\n",
        "       if result==10:\n",
        "         \n",
        "           print(j,i)\n",
        "           ikililer.append({j,i})           \n",
        "       else:\n",
        "           continue\n",
        "           \n",
        "m=len(ikililer)-1\n",
        "k=0"
      ],
      "execution_count": 8,
      "outputs": [
        {
          "output_type": "stream",
          "text": [
            "1 9\n",
            "2 8\n",
            "3 7\n",
            "4 6\n",
            "5 5\n",
            "6 4\n",
            "7 3\n",
            "8 2\n",
            "9 1\n"
          ],
          "name": "stdout"
        }
      ]
    },
    {
      "metadata": {
        "id": "HGVBk0AUH4JT",
        "colab_type": "text"
      },
      "cell_type": "markdown",
      "source": [
        "İkililerden tekraredenler çıkınca;"
      ]
    },
    {
      "metadata": {
        "id": "TccqYsXLH6Hj",
        "colab_type": "code",
        "colab": {
          "base_uri": "https://localhost:8080/",
          "height": 85
        },
        "outputId": "3621fdfd-5a5e-4e02-8b57-74c949ae0a5a"
      },
      "cell_type": "code",
      "source": [
        "while(k<m):\n",
        "    \n",
        "    if ikililer[k]==ikililer[m]:\n",
        "    \n",
        "        k=k+1\n",
        "        c=c+1\n",
        "        print(c)\n",
        "        m=m-1\n"
      ],
      "execution_count": 9,
      "outputs": [
        {
          "output_type": "stream",
          "text": [
            "1\n",
            "2\n",
            "3\n",
            "4\n"
          ],
          "name": "stdout"
        }
      ]
    },
    {
      "metadata": {
        "id": "RU3el0evIIzF",
        "colab_type": "text"
      },
      "cell_type": "markdown",
      "source": [
        "Yuva sayısı;\n",
        "\n"
      ]
    },
    {
      "metadata": {
        "id": "9LZRsL6WIJVJ",
        "colab_type": "code",
        "colab": {}
      },
      "cell_type": "code",
      "source": [
        "Grup_sayısı=c+1"
      ],
      "execution_count": 0,
      "outputs": []
    },
    {
      "metadata": {
        "id": "k7Tn2WFrIa16",
        "colab_type": "text"
      },
      "cell_type": "markdown",
      "source": [
        "güvercin sayısı"
      ]
    },
    {
      "metadata": {
        "id": "3uKikMmbIbVc",
        "colab_type": "code",
        "colab": {}
      },
      "cell_type": "code",
      "source": [
        "\n",
        "eleman_sayısı=6"
      ],
      "execution_count": 0,
      "outputs": []
    },
    {
      "metadata": {
        "id": "obgVdpYGIlCC",
        "colab_type": "code",
        "colab": {
          "base_uri": "https://localhost:8080/",
          "height": 34
        },
        "outputId": "74d387b5-84f1-46a4-acbc-07e831cceb1c"
      },
      "cell_type": "code",
      "source": [
        "en_az= math.ceil(eleman_sayısı/Grup_sayısı)\n",
        "\n",
        "print(en_az)"
      ],
      "execution_count": 12,
      "outputs": [
        {
          "output_type": "stream",
          "text": [
            "2\n"
          ],
          "name": "stdout"
        }
      ]
    }
  ]
}